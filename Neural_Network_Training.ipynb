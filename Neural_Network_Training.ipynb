{
  "nbformat": 4,
  "nbformat_minor": 0,
  "metadata": {
    "colab": {
      "provenance": [],
      "gpuType": "T4"
    },
    "kernelspec": {
      "name": "python3",
      "display_name": "Python 3"
    },
    "language_info": {
      "name": "python"
    },
    "accelerator": "GPU"
  },
  "cells": [
    {
      "cell_type": "code",
      "metadata": {
        "id": "kTvDNSILZoN9"
      },
      "source": [
        "!git clone https://github.com/ultralytics/yolov5  # clone repo\n",
        "%cd yolov5\n",
        "%pip install -r requirements.txt # install dependencies\n",
        "%pip install roboflow\n",
        "\n",
        "import torch\n",
        "import os\n",
        "from IPython.display import Image, clear_output  # to display images\n",
        "\n",
        "print(f\"Setup complete. Using torch {torch.__version__} ({torch.cuda.get_device_properties(0).name if torch.cuda.is_available() else 'CPU'})\")"
      ],
      "execution_count": null,
      "outputs": []
    },
    {
      "cell_type": "code",
      "metadata": {
        "id": "FwJcaoPGF4VI"
      },
      "source": [
        "#Original version of from the thesis\n",
        "#from roboflow import Roboflow\n",
        "#rf = Roboflow(api_key=\"XXXXXXXXXXXXXXXXXXXX\")\n",
        "#project = rf.workspace(\"rmit-oeng1090-master-research-thesis\").project(\"post-earthquake-interior-environment\")\n",
        "#dataset = project.version(3).download(\"yolov5\")"
      ],
      "execution_count": null,
      "outputs": []
    },
    {
      "cell_type": "code",
      "source": [
        "#Version for further development. To extract this zip file, you must hve the dataset zip file after\n",
        "#creating the dataset folder shown and must be placed inside the dataset folder. Do remember to change\n",
        "#the name of the \"source\" to the name provided in GitHub.\n",
        "!mkdir postearthquakedataset\n",
        "%cd postearthquakedataset\n",
        "%cp {source}/postearthquakedataset.zip yolov5/postearthquakedataset\n",
        "!unzip postearthquakedataset.zip"
      ],
      "metadata": {
        "id": "P5J33Ho_Z2hu"
      },
      "execution_count": null,
      "outputs": []
    },
    {
      "cell_type": "code",
      "source": [
        "torch.cuda.empty_cache()"
      ],
      "metadata": {
        "id": "h0_7Abx56Crl"
      },
      "execution_count": 3,
      "outputs": []
    },
    {
      "cell_type": "code",
      "metadata": {
        "id": "eaFNnxLJbq4J"
      },
      "source": [
        "!python train.py --img 640 --batch 16 --epochs 50 --data {dataset.location}/data.yaml --weights yolov5s.pt"
      ],
      "execution_count": null,
      "outputs": []
    },
    {
      "cell_type": "code",
      "metadata": {
        "id": "TWjjiBcic3Vz"
      },
      "source": [
        "!python detect.py --weights runs/train/exp/weights/best.pt --img 640 --conf 0.5 --source {dataset.location}/test/images"
      ],
      "execution_count": null,
      "outputs": []
    },
    {
      "cell_type": "code",
      "metadata": {
        "id": "rNn-obvOGITm"
      },
      "source": [
        "!python export.py --weights /content/yolov5/runs/train/exp/weights/best.pt --include torchscript saved_model onnx"
      ],
      "execution_count": null,
      "outputs": []
    }
  ]
}